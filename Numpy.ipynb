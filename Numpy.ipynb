{
  "nbformat": 4,
  "nbformat_minor": 0,
  "metadata": {
    "colab": {
      "provenance": [],
      "include_colab_link": true
    },
    "kernelspec": {
      "name": "python3",
      "display_name": "Python 3"
    },
    "language_info": {
      "name": "python"
    }
  },
  "cells": [
    {
      "cell_type": "markdown",
      "metadata": {
        "id": "view-in-github",
        "colab_type": "text"
      },
      "source": [
        "<a href=\"https://colab.research.google.com/github/vijaya-123-bg/machine-learning-2/blob/main/Numpy.ipynb\" target=\"_parent\"><img src=\"https://colab.research.google.com/assets/colab-badge.svg\" alt=\"Open In Colab\"/></a>"
      ]
    },
    {
      "cell_type": "markdown",
      "source": [
        "NumPy (Numerical Python) is a powerful open-source library in Python that is widely used for numerical computations. It provides support for multi-dimensional arrays and matrices, along with a large collection of high-level mathematical functions to operate on these arrays. NumPy is the foundational package for scientific computing in Python, and many other libraries, like SciPy and Pandas, are built on top of it."
      ],
      "metadata": {
        "id": "F2I8layR4t7A"
      }
    },
    {
      "cell_type": "markdown",
      "source": [
        "Key Features of NumPy:\n",
        "Multi-dimensional Arrays: NumPy introduces the ndarray object, which allows you to create arrays of any dimension, such as 1D, 2D, or even higher-dimensional arrays.\n",
        "Efficient Operations: It offers efficient operations on large arrays and matrices, which are implemented in C and Fortran, making them much faster than Python lists.\n",
        "Mathematical Functions: NumPy includes a wide range of mathematical operations, such as element-wise addition, subtraction, multiplication, division, and more complex functions like trigonometric, statistical, and algebraic operations.\n",
        "Broadcasting: This feature allows you to perform arithmetic operations on arrays of different shapes without explicitly reshaping them.\n",
        "Linear Algebra Support: NumPy has built-in functions for performing linear algebra operations, such as matrix multiplication, inversion, eigenvalue calculation, etc.\n",
        "Integration with Other Libraries: NumPy arrays are the standard data structure used in other scientific computing libraries, including Pandas (data analysis), Matplotlib (plotting), and TensorFlow (machine learning)."
      ],
      "metadata": {
        "id": "KPqnpPna4sMf"
      }
    },
    {
      "cell_type": "code",
      "source": [
        "import numpy as np"
      ],
      "metadata": {
        "id": "qwQZTKDG43mt"
      },
      "execution_count": null,
      "outputs": []
    },
    {
      "cell_type": "code",
      "source": [
        "## create array using numpy\n",
        "##create a 1D array\n",
        "arr1=np.array([1,2,3,4,5])\n",
        "print(arr1)\n",
        "print(type(arr1))\n",
        "print(arr1.shape)"
      ],
      "metadata": {
        "id": "Cmaj3O03Y3bQ"
      },
      "execution_count": null,
      "outputs": []
    },
    {
      "cell_type": "code",
      "source": [
        "## 1 d array\n",
        "arr2=np.array([1,2,3,4,5])\n",
        "arr2.reshape(1,5)  ##1 row and 5 columns"
      ],
      "metadata": {
        "colab": {
          "base_uri": "https://localhost:8080/"
        },
        "id": "g0A7tRgTY8Xt",
        "outputId": "8a23fa94-6bc2-4dd5-9d65-8d75bfc5846b"
      },
      "execution_count": null,
      "outputs": [
        {
          "output_type": "execute_result",
          "data": {
            "text/plain": [
              "array([[1, 2, 3, 4, 5]])"
            ]
          },
          "metadata": {},
          "execution_count": 50
        }
      ]
    },
    {
      "cell_type": "code",
      "source": [
        "arr2=np.array([[1,2,3,4,5]])\n",
        "arr2.shape"
      ],
      "metadata": {
        "colab": {
          "base_uri": "https://localhost:8080/"
        },
        "id": "MV6zoStqZAb1",
        "outputId": "c4613d37-7090-4df3-c79b-35f2857a6ccc"
      },
      "execution_count": null,
      "outputs": [
        {
          "output_type": "execute_result",
          "data": {
            "text/plain": [
              "(1, 5)"
            ]
          },
          "metadata": {},
          "execution_count": 51
        }
      ]
    },
    {
      "cell_type": "code",
      "source": [
        "## 2d array\n",
        "arr2=np.array([[1,2,3,4,5],[2,3,4,5,6]])\n",
        "print(arr2)\n",
        "print(arr2.shape)"
      ],
      "metadata": {
        "id": "gScR0LTwZE7S"
      },
      "execution_count": null,
      "outputs": []
    },
    {
      "cell_type": "code",
      "source": [
        "np.arange(0,10,2)\n"
      ],
      "metadata": {
        "colab": {
          "base_uri": "https://localhost:8080/"
        },
        "id": "_rddvbadZIkA",
        "outputId": "2d0a771e-90a4-4f11-d1f5-35626276e0a5"
      },
      "execution_count": null,
      "outputs": [
        {
          "output_type": "execute_result",
          "data": {
            "text/plain": [
              "array([0, 2, 4, 6, 8])"
            ]
          },
          "metadata": {},
          "execution_count": 54
        }
      ]
    },
    {
      "cell_type": "code",
      "source": [
        "np.arange(0,10,2).reshape(5,1)\n"
      ],
      "metadata": {
        "id": "eCAzqpMjZNN9"
      },
      "execution_count": null,
      "outputs": []
    },
    {
      "cell_type": "code",
      "source": [
        "np.ones((3,4))\n"
      ],
      "metadata": {
        "id": "5kO6WDCSZQjv"
      },
      "execution_count": null,
      "outputs": []
    },
    {
      "cell_type": "code",
      "source": [
        "## identity matrix\n",
        "np.eye(4)"
      ],
      "metadata": {
        "id": "VqcnZKoFZcBQ"
      },
      "execution_count": null,
      "outputs": []
    },
    {
      "cell_type": "code",
      "source": [
        "## Attributes of Numpy Array\n",
        "arr = np.array([[1, 2, 3], [4, 5, 6]])\n",
        "\n",
        "print(\"Array: \\n\", arr)\n",
        "print(\"Shape:\", arr.shape)  # Output: (2, 3)\n",
        "print(\"Number of dimensions:\", arr.ndim)  # Output: 2\n",
        "print(\"Size (number of elements):\", arr.size)  # Output: 6\n",
        "print(\"Data type:\", arr.dtype)  # Output: int32 (may vary based on platform)\n",
        "print(\"Item size (in bytes):\", arr.itemsize)  # Output: 8 (may vary based on platform)"
      ],
      "metadata": {
        "colab": {
          "base_uri": "https://localhost:8080/"
        },
        "id": "tSfdLX5uZfRT",
        "outputId": "c3e9dfa1-5f82-4d67-eac9-a6c9d16d462a"
      },
      "execution_count": null,
      "outputs": [
        {
          "output_type": "stream",
          "name": "stdout",
          "text": [
            "Array: \n",
            " [[1 2 3]\n",
            " [4 5 6]]\n",
            "Shape: (2, 3)\n",
            "Number of dimensions: 2\n",
            "Size (number of elements): 6\n",
            "Data type: int64\n",
            "Item size (in bytes): 8\n"
          ]
        }
      ]
    },
    {
      "cell_type": "code",
      "source": [
        "### Numpy Vectorized Operation\n",
        "arr1=np.array([1,2,3,4,5])\n",
        "arr2=np.array([10,20,30,40,50])\n",
        "\n",
        "### Element Wise addition\n",
        "print(\"Addition:\", arr1+arr2)\n",
        "\n",
        "## Element Wise Substraction\n",
        "print(\"Substraction:\", arr1-arr2)\n",
        "\n",
        "# Element-wise multiplication\n",
        "print(\"Multiplication:\", arr1 * arr2)\n",
        "\n",
        "# Element-wise division\n",
        "print(\"Division:\", arr1 / arr2)"
      ],
      "metadata": {
        "colab": {
          "base_uri": "https://localhost:8080/"
        },
        "id": "6cYQji-nZt9v",
        "outputId": "f9f29c02-54c2-4e8b-dc09-25188a0053ca"
      },
      "execution_count": null,
      "outputs": [
        {
          "output_type": "stream",
          "name": "stdout",
          "text": [
            "Addition: [11 22 33 44 55]\n",
            "Substraction: [ -9 -18 -27 -36 -45]\n",
            "Multiplication: [ 10  40  90 160 250]\n",
            "Division: [0.1 0.1 0.1 0.1 0.1]\n"
          ]
        }
      ]
    },
    {
      "cell_type": "code",
      "source": [
        "## Universal Function\n",
        "arr=np.array([2,3,4,5,6])\n",
        "## square root\n",
        "print(np.sqrt(arr))\n",
        "\n",
        "## Exponential\n",
        "print(np.exp(arr))\n",
        "\n",
        "## Sine\n",
        "print(np.sin(arr))\n",
        "\n",
        "## natural log\n",
        "print(np.log(arr))"
      ],
      "metadata": {
        "colab": {
          "base_uri": "https://localhost:8080/"
        },
        "id": "xwRlC10oZwpe",
        "outputId": "461f9376-d657-4227-d413-eadf8c4ede6d"
      },
      "execution_count": null,
      "outputs": [
        {
          "output_type": "stream",
          "name": "stdout",
          "text": [
            "[1.41421356 1.73205081 2.         2.23606798 2.44948974]\n",
            "[  7.3890561   20.08553692  54.59815003 148.4131591  403.42879349]\n",
            "[ 0.90929743  0.14112001 -0.7568025  -0.95892427 -0.2794155 ]\n",
            "[0.69314718 1.09861229 1.38629436 1.60943791 1.79175947]\n"
          ]
        }
      ]
    },
    {
      "cell_type": "code",
      "source": [
        "## array slicing and Indexing\n",
        "\n",
        "arr=np.array([[1,2,3,4],[5,6,7,8],[9,10,11,12]])\n",
        "print(\"Array : \\n\", arr)"
      ],
      "metadata": {
        "colab": {
          "base_uri": "https://localhost:8080/"
        },
        "id": "1pupDXiTZ4DG",
        "outputId": "4f927ba7-ed5e-47ec-f223-d0d5ded5a974"
      },
      "execution_count": null,
      "outputs": [
        {
          "output_type": "stream",
          "name": "stdout",
          "text": [
            "Array : \n",
            " [[ 1  2  3  4]\n",
            " [ 5  6  7  8]\n",
            " [ 9 10 11 12]]\n"
          ]
        }
      ]
    },
    {
      "cell_type": "code",
      "source": [
        "print(arr[1:,1:3])"
      ],
      "metadata": {
        "colab": {
          "base_uri": "https://localhost:8080/"
        },
        "id": "lLPlf_xiZ9an",
        "outputId": "d97ee140-220c-48ee-b0e4-491f5483743f"
      },
      "execution_count": null,
      "outputs": [
        {
          "output_type": "stream",
          "name": "stdout",
          "text": [
            "[[ 6  7]\n",
            " [10 11]]\n"
          ]
        }
      ]
    },
    {
      "cell_type": "code",
      "source": [
        "print(arr[0][0])\n",
        "print(arr[0:2,2:])"
      ],
      "metadata": {
        "id": "cHETE9FsZ-_M"
      },
      "execution_count": null,
      "outputs": []
    },
    {
      "cell_type": "code",
      "source": [
        "arr[1:,2:]\n"
      ],
      "metadata": {
        "id": "0ROmNcfoaGFD"
      },
      "execution_count": null,
      "outputs": []
    },
    {
      "cell_type": "code",
      "source": [
        "## Modify array elements\n",
        "arr[0,0]=100\n",
        "print(arr)"
      ],
      "metadata": {
        "id": "MT7Lve_VaJoR"
      },
      "execution_count": null,
      "outputs": []
    },
    {
      "cell_type": "code",
      "source": [
        "arr[1:]=100\n",
        "print(arr)"
      ],
      "metadata": {
        "colab": {
          "base_uri": "https://localhost:8080/"
        },
        "id": "t3J3DuO4aLpC",
        "outputId": "be812a2e-69f5-446a-c292-59a654a6154f"
      },
      "execution_count": null,
      "outputs": [
        {
          "output_type": "stream",
          "name": "stdout",
          "text": [
            "[[100   2   3   4]\n",
            " [100 100 100 100]\n",
            " [100 100 100 100]]\n"
          ]
        }
      ]
    },
    {
      "cell_type": "code",
      "source": [
        "data = np.array([1, 2, 3, 4, 5, 6, 7, 8, 9, 10])\n",
        "\n",
        "# Mean\n",
        "mean = np.mean(data)\n",
        "print(\"Mean:\", mean)\n",
        "\n",
        "# Median\n",
        "median = np.median(data)\n",
        "print(\"Median:\", median)\n",
        "\n",
        "# Standard deviation\n",
        "std_dev = np.std(data)\n",
        "print(\"Standard Deviation:\", std_dev)\n",
        "\n",
        "# Variance\n",
        "variance = np.var(data)\n",
        "print(\"Variance:\", variance)"
      ],
      "metadata": {
        "colab": {
          "base_uri": "https://localhost:8080/"
        },
        "id": "ixkjGW3taPAF",
        "outputId": "4514ec51-d5c8-4f36-eab1-ba5490b78b95"
      },
      "execution_count": null,
      "outputs": [
        {
          "output_type": "stream",
          "name": "stdout",
          "text": [
            "Mean: 5.5\n",
            "Median: 5.5\n",
            "Standard Deviation: 2.8722813232690143\n",
            "Variance: 8.25\n"
          ]
        }
      ]
    },
    {
      "cell_type": "code",
      "source": [
        "## Logical operation\n",
        "data=np.array([1,2,3,4,5,6,7,8,9,10])\n",
        "\n",
        "data[(data>=5) & (data<=8)]"
      ],
      "metadata": {
        "colab": {
          "base_uri": "https://localhost:8080/"
        },
        "id": "Ue3idO-paXr4",
        "outputId": "d5f2d791-18d6-4a10-bae7-b0660780a950"
      },
      "execution_count": null,
      "outputs": [
        {
          "output_type": "execute_result",
          "data": {
            "text/plain": [
              "array([5, 6, 7, 8])"
            ]
          },
          "metadata": {},
          "execution_count": 29
        }
      ]
    }
  ]
}